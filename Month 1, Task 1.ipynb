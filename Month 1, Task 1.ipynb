{
 "cells": [
  {
   "cell_type": "markdown",
   "metadata": {},
   "source": [
    "# Guess the Number"
   ]
  },
  {
   "cell_type": "markdown",
   "metadata": {},
   "source": [
    "Write a program where the computer randomly generates a number between 0 and 20. The user needs to guess what the number is. If the user guesses wrong, tell them their guess is either too high or too low."
   ]
  },
  {
   "cell_type": "code",
   "execution_count": 1,
   "metadata": {},
   "outputs": [],
   "source": [
    "import random\n",
    "import string"
   ]
  },
  {
   "cell_type": "code",
   "execution_count": 2,
   "metadata": {},
   "outputs": [
    {
     "name": "stdout",
     "output_type": "stream",
     "text": [
      "Guess the a number between 0 and 20: 21\n",
      "WARNING!! Number not in the specified range. Choose a number bewteen 0 and 20\n",
      "Guess the a number between 0 and 20: 15\n",
      "Your guess is high!, \n",
      "Guess lower\n",
      "Guess the a number between 0 and 20: 10\n",
      "Your guess is high!, \n",
      "Guess lower\n",
      "Guess the a number between 0 and 20: 7\n",
      "Your guess is low! \n",
      "Guess higher\n",
      "The number is 8\n",
      "\n",
      "Better Luck Next Time!\n"
     ]
    }
   ],
   "source": [
    "number = random.randint(0, 20)\n",
    "\n",
    "count = 0\n",
    "\n",
    "while count <= 3:\n",
    "    count += 1\n",
    "\n",
    "    number_guess = int(input('Guess the a number between 0 and 20: '))\n",
    "    \n",
    "    if not number_guess in range(0,21):\n",
    "        print('WARNING!! Number not in the specified range. Choose a number bewteen 0 and 20')\n",
    "    elif number == number_guess:\n",
    "        print ('Congratulations!!! \\nYou were right.')\n",
    "        break\n",
    "    elif number_guess < number :\n",
    "        print ('Your guess is low! \\nGuess higher')\n",
    "    elif number_guess > number:\n",
    "        print ('Your guess is high!, \\nGuess lower')\n",
    "if count >= 3:\n",
    "    print('The number is %d' %number)\n",
    "    print('\\nBetter Luck Next Time!')"
   ]
  },
  {
   "cell_type": "markdown",
   "metadata": {},
   "source": [
    "# Password Generator"
   ]
  },
  {
   "cell_type": "markdown",
   "metadata": {},
   "source": [
    "Write a program which generates a random password for the user. Ask the user how long they want their password to be, and how many letters and numbers they want in their password. Have a mix of upper and lowercase letters, as well as numbers and symbols.The password should be a minimum of 6 characters long."
   ]
  },
  {
   "cell_type": "code",
   "execution_count": 3,
   "metadata": {},
   "outputs": [
    {
     "name": "stdout",
     "output_type": "stream",
     "text": [
      "Please enter your desired password length: 5\n",
      "Your desired password length is too short! Choose a higher number\n",
      "Please enter your desired password length: 10\n",
      "Generating password....\n",
      "How many letters would you like in your password: 6\n",
      "How many numbers would you like in your password: 3\n",
      "How many symbols would you like in your password: 1\n",
      "JrKQv_B827\n"
     ]
    }
   ],
   "source": [
    "def password_combination(letters_count, digits_count, symbol_count):\n",
    "    password_str = ''.join((random.choice(string.ascii_letters) for i in range(letters_count)))\n",
    "    password_str += ''.join((random.choice(string.digits) for i in range(digits_count)))\n",
    "    password_str += ''.join((random.choice(string.punctuation) for i in range(symbol_count)))\n",
    "    \n",
    "    #convert to list and shuffle\n",
    "    password_list = list(password_str)\n",
    "    random.shuffle(password_list)\n",
    "    final_password = ''.join(password_list)\n",
    "    return final_password\n",
    "\n",
    "minimum_password_length = 6\n",
    "\n",
    "while True:\n",
    "    password_length = int(input('Please enter your desired password length: '))\n",
    "    \n",
    "    if password_length >= minimum_password_length:\n",
    "        print ('Generating password....')\n",
    "        break\n",
    "    elif password_length < minimum_password_length :\n",
    "        print ('Your desired password length is too short! Choose a higher number')\n",
    "    \n",
    "letters_length = int(input('How many letters would you like in your password: '))\n",
    "numbers_length = int(input('How many numbers would you like in your password: '))\n",
    "symbols_length = int(input('How many symbols would you like in your password: '))\n",
    "\n",
    "generated_password = password_combination(letters_length, numbers_length, symbols_length)\n",
    "print(generated_password)"
   ]
  }
 ],
 "metadata": {
  "kernelspec": {
   "display_name": "Python 3",
   "language": "python",
   "name": "python3"
  },
  "language_info": {
   "codemirror_mode": {
    "name": "ipython",
    "version": 3
   },
   "file_extension": ".py",
   "mimetype": "text/x-python",
   "name": "python",
   "nbconvert_exporter": "python",
   "pygments_lexer": "ipython3",
   "version": "3.8.3"
  }
 },
 "nbformat": 4,
 "nbformat_minor": 4
}
